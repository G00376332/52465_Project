{
 "cells": [
  {
   "cell_type": "markdown",
   "metadata": {},
   "source": [
    "# Programming for Data Analysis Project 2019 "
   ]
  },
  {
   "cell_type": "markdown",
   "metadata": {},
   "source": [
    "<p align=\"center\"> <img width=\"800\" height=\"600\" src=\"Images/accident1.jpg\" alt=\"Choice Function Description\" /> </p>"
   ]
  },
  {
   "cell_type": "markdown",
   "metadata": {},
   "source": [
    "###  Table of Contents<a id=\"table\"/>\n",
    "\n",
    "* [Goals and objectives](#goals)\n",
    "* [Introduction](#intro)\n",
    "* [Dataset review](#dataset)\n",
    "* [Summary](#summary)\n",
    "* [References](#references)"
   ]
  },
  {
   "cell_type": "markdown",
   "metadata": {},
   "source": [
    "## Goals and objectives<a id=\"goals\"/>"
   ]
  },
  {
   "cell_type": "markdown",
   "metadata": {},
   "source": [
    "* Choose a real-world phenomenon that can be measured and for which could collect at least one-hundred data points across at least four different variables.\n",
    "* Investigate the types of variables involved, their likely distributions, and their\n",
    "relationships with each other\n",
    "* Synthesise/simulate a data set as closely matching their properties as possible.\n",
    "* Use a Jupyter notebook for research and implement the simulation inside"
   ]
  },
  {
   "cell_type": "markdown",
   "metadata": {},
   "source": [
    "[**<<<**](#table)"
   ]
  },
  {
   "cell_type": "markdown",
   "metadata": {},
   "source": [
    "## Introduction<a id=\"intro\"/>"
   ]
  },
  {
   "cell_type": "markdown",
   "metadata": {},
   "source": [
    "This Jupyter notebook discusses the creation of a dataset showing the road accident across Ireland of various type of severity and time span also factor per fixed number of citizens, vehicles in the distribution of each member state to generate results in line with currently published data sources referenced in the document.\n",
    "\n",
    "The road safety is common problem and priorites for many countries in the EU and world. There are many factor that influence road accident and is hard to analyse all of them with details. This project will focus on major variables which are published in the statistical reports by state agencies and based on this the dataset will be created.\n",
    "\n",
    "At the begining is worth to look on real official data about road safety in Ireland and see how these statistics look in respect of other countries of the EU. The chart below is coming from OECD data and shows dead on the roads in 2017 in the EU per million of inhabitants with highlighting Ireland.  \n",
    "\n",
    "<p align=\"center\"> <img width=\"800\" height=\"400\" src=\"Images/EU.png\" alt=\"Choice Function Description\" /> </p>\n",
    "\n",
    "It can be seen that Ireland is in the leading part of that chart with resonable small number of fatalities on the roads.\n",
    "This statistics idealy should be brought death value to zero for safety but in reality any efforts should be carried out to improve road safety.\n",
    "\n",
    "What are the main factors that cause accidents? According to RSA below infographic gather the most common culprits.\n",
    "\n",
    "<p align=\"center\"> <img width=\"800\" height=\"400\" src=\"Images/Main_Questions.png\" alt=\"Choice Function Description\" /> </p>\n",
    "\n",
    "The number of road deaths dropped by 4% last year, the lowest number of fatalities on the roads since records began.\n",
    "Provisional statistics up to 31 December 2018 show that a total of 149 people lost their lives on Ireland’s roads as a result of 142 fatal crashes.\n",
    "This compares with 156 deaths as a result of 141 fatal crashes in 2017, making last year the safest year on Ireland’s roads since deaths were first recorded in 1959.[1]\n",
    "\n",
    "\n"
   ]
  },
  {
   "cell_type": "markdown",
   "metadata": {},
   "source": [
    "[**<<<**](#table)"
   ]
  },
  {
   "cell_type": "markdown",
   "metadata": {},
   "source": [
    "## Dataset review<a id=\"dataset\"/>"
   ]
  },
  {
   "cell_type": "markdown",
   "metadata": {},
   "source": [
    "As mentioned in previous paragraph road accidents by nature have many factors that have to be investigated with connection to each other. For the purpose of this project, there will be limited factors used to create a synthesized dataset as a main goal of this task is to show the process of data creation and simulation of this phenomenon rather than deep analyse of all possible factors etc. \n",
    "\n",
    "The dataset will include the following data and parameters:\n",
    "\n",
    "|Variable|Description|Data Type|Distributions|\n",
    "|------|---------------|----------------|---------------|\n",
    "|Loacation|City/Town|Text|Normal|\n",
    "|Road User|Type of road user|Text|Normal|\n",
    "|Collision Type|Consequence of an accident|killed/injured|Bernoulli|\n",
    "|Age Groups|Age of road user|0-99|Normal|\n",
    "|Gender|Gender of road user|male/female|Bernoulli|\n",
    "|Month|Time in the year|Text|Normal|\n",
    "|Alcohol Related|Was alcohol involved|yes/no|Bernoulli|\n",
    "\n",
    "\n",
    "The time period will be for one year. All relationship between the variables will be simulated and review during the dataset creation process."
   ]
  },
  {
   "cell_type": "code",
   "execution_count": 1,
   "metadata": {},
   "outputs": [],
   "source": [
    "# Import all relevant libraries\n",
    "import numpy as np\n",
    "import pandas as pd\n",
    "import matplotlib.pyplot as plt\n",
    "import seaborn as sns"
   ]
  },
  {
   "cell_type": "markdown",
   "metadata": {},
   "source": [
    "At the begining is necessary to create all possible selections for each variable."
   ]
  },
  {
   "cell_type": "code",
   "execution_count": 2,
   "metadata": {},
   "outputs": [],
   "source": [
    "# Create all possible option in related variables\n",
    "location =  ['Carlow', 'Dublin', 'Kildare', 'Kilkenny ', 'Laois ', 'Longford ', 'Louth ', 'Meath', 'Offaly ', 'Westmeath ', 'Wexford', 'Wicklow', 'Clare', 'Cork', 'Kerry', 'Limerick', 'Tipperary', 'Waterford', 'Galway', 'Leitrim', 'Mayo', 'Roscommon', 'Sligo', 'Cavan', 'Donegal', 'Monaghan']\n",
    "road_user = ['Pedestrians', 'Cyclists', 'Motorbike', 'Car']\n",
    "collision = ['Killed','Injured']\n",
    "age = ['0-5', '6-9', '10-14', '15-17', '18-20', '21-24', '25-34', '35-44', '45-54', '55-64', '65-100']\n",
    "gender = ['male', 'female']\n",
    "month = ['January', 'February', 'March', 'April', 'May', 'June', 'July', 'August', 'September', 'October', 'November', 'December']\n",
    "alcohol = ['yes', 'no']"
   ]
  },
  {
   "cell_type": "markdown",
   "metadata": {},
   "source": [
    "[**<<<**](#table)"
   ]
  },
  {
   "cell_type": "markdown",
   "metadata": {},
   "source": [
    "## Summary<a id=\"summary\"/>"
   ]
  },
  {
   "cell_type": "markdown",
   "metadata": {},
   "source": []
  },
  {
   "cell_type": "markdown",
   "metadata": {},
   "source": [
    "[**<<<**](#table)"
   ]
  },
  {
   "cell_type": "markdown",
   "metadata": {},
   "source": [
    "## References<a id=\"references\"/>"
   ]
  },
  {
   "cell_type": "markdown",
   "metadata": {},
   "source": [
    "1. [OECD Data - Road accidents](https://data.oecd.org/transport/road-accidents.htm)\n",
    "1. [thejournal.ie - 2018 accidents summary](https://www.thejournal.ie/2018-saw-the-lowest-number-of-deaths-on-irish-roads-since-records-began-in-1959-4419050-Jan2019/)\n",
    "1. []()\n",
    "1. []()\n",
    "1. []()\n",
    "1. []()"
   ]
  },
  {
   "cell_type": "markdown",
   "metadata": {},
   "source": [
    "[**<<<**](#table)"
   ]
  }
 ],
 "metadata": {
  "kernelspec": {
   "display_name": "Python 3",
   "language": "python",
   "name": "python3"
  },
  "language_info": {
   "codemirror_mode": {
    "name": "ipython",
    "version": 3
   },
   "file_extension": ".py",
   "mimetype": "text/x-python",
   "name": "python",
   "nbconvert_exporter": "python",
   "pygments_lexer": "ipython3",
   "version": "3.7.4"
  }
 },
 "nbformat": 4,
 "nbformat_minor": 2
}

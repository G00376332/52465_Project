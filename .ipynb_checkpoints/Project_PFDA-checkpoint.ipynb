{
 "cells": [
  {
   "cell_type": "markdown",
   "metadata": {},
   "source": [
    "# Programming for Data Analysis Project 2019 "
   ]
  },
  {
   "cell_type": "markdown",
   "metadata": {},
   "source": [
    "<p align=\"center\"> <img width=\"800\" height=\"600\" src=\"Images/accident1.jpg\" alt=\"Choice Function Description\" /> </p>"
   ]
  },
  {
   "cell_type": "markdown",
   "metadata": {},
   "source": [
    "###  Table of Contents<a id=\"table\"/>\n",
    "\n",
    "* [Goals and objectives](#goals)\n",
    "* [Introduction](#intro)\n",
    "* [Dataset review](#dataset)\n",
    "* [Summary](#summary)\n",
    "* [References](#references)"
   ]
  },
  {
   "cell_type": "markdown",
   "metadata": {},
   "source": [
    "## Goals and objectives<a id=\"goals\"/>"
   ]
  },
  {
   "cell_type": "markdown",
   "metadata": {},
   "source": [
    "* Choose a real-world phenomenon that can be measured and for which could collect at least one-hundred data points across at least four different variables.\n",
    "* Investigate the types of variables involved, their likely distributions, and their\n",
    "relationships with each other\n",
    "* Synthesise/simulate a data set as closely matching their properties as possible.\n",
    "* Use a Jupyter notebook for research and implement the simulation inside"
   ]
  },
  {
   "cell_type": "markdown",
   "metadata": {},
   "source": [
    "[**<<<**](#table)"
   ]
  },
  {
   "cell_type": "markdown",
   "metadata": {},
   "source": [
    "## Introduction<a id=\"intro\"/>"
   ]
  },
  {
   "cell_type": "markdown",
   "metadata": {},
   "source": [
    "This Jupyter notebook discusses the creation of a dataset showing the road accident across Ireland of various type of severity and time span also factor per fixed number of citizens, vehicles in the distribution of each member state to generate results in line with currently published data sources referenced in the document.\n",
    "\n",
    "The road safety is common problem and priorites for many countries in the EU and world. There are many factor that influence road accident and is hard to analyse all of them with details. This project will focus on major variables which are published in the statistical reports by state agencies and based on this the dataset will be created.\n",
    "\n",
    "At the begining is worth to look on real official data about road safety in Ireland and see how these statistics look in respect of other countries of the EU. The chart below is coming from OECD data and shows dead on the roads in 2017 in the EU per million of inhabitants with highlighting Ireland.  \n",
    "\n",
    "<p align=\"center\"> <img width=\"800\" height=\"400\" src=\"Images/EU.png\" alt=\"Choice Function Description\" /> </p>\n",
    "\n",
    "It can be seen that Ireland is in the leading part of that chart with resonable small number of fatalities on the roads.\n",
    "This statistics idealy should be brought death value to zero for safety but in reality any efforts should be carried out to improve road safety.\n",
    "\n",
    "What are the main factors that cause accidents? According to RSA below infographic gather the most common culprits.\n",
    "\n",
    "<p align=\"center\"> <img width=\"800\" height=\"400\" src=\"Images/Main_Questions.png\" alt=\"Choice Function Description\" /> </p>\n",
    "\n",
    "The number of road deaths dropped by 4% last year, the lowest number of fatalities on the roads since records began.\n",
    "Provisional statistics up to 31 December 2018 show that a total of 149 people lost their lives on Ireland’s roads as a result of 142 fatal crashes.\n",
    "This compares with 156 deaths as a result of 141 fatal crashes in 2017, making last year the safest year on Ireland’s roads since deaths were first recorded in 1959.[1]\n",
    "\n",
    "\n"
   ]
  },
  {
   "cell_type": "markdown",
   "metadata": {},
   "source": [
    "[**<<<**](#table)"
   ]
  },
  {
   "cell_type": "markdown",
   "metadata": {},
   "source": [
    "## Dataset review<a id=\"dataset\"/>"
   ]
  },
  {
   "cell_type": "markdown",
   "metadata": {},
   "source": [
    "As mentioned in previous paragraph road accidents by nature have many factors that have to be investigated with connection to each other. For the purpose of this project, there will be limited factors used to create a synthesized dataset as a main goal of this task is to show the process of data creation and simulation of this phenomenon rather than deep analyse of all possible factors etc. \n",
    "\n",
    "The dataset will include the following data and parameters:\n",
    "\n",
    "|Variable|Description|Data Type|Distributions|\n",
    "|------|---------------|----------------|---------------|\n",
    "|Loacation|City/Town|Text|Normal|\n",
    "|Road User|Type of road user|Text|Normal|\n",
    "|Collision Type|Consequence of an accident|killed/injured|Bernoulli|\n",
    "|Gender|Gender of road user|male/female|Bernoulli|\n",
    "|Month|Time in the year|Text|Normal|\n",
    "|Alcohol Related|Was alcohol involved|yes/no|Bernoulli|\n",
    "\n",
    "\n",
    "The time period will be one year. All relationship between the variables will be simulated and review during the dataset creation process.\n",
    "\n",
    "Based on data from Cental Statistical Office [3] the total number of all kind of road accidents in 2012 was above 8000.\n",
    "\n",
    "<p align=\"center\"> <img width=\"800\" height=\"400\" src=\"Images/total_accidents.png\" alt=\"Choice Function Description\" /> </p>\n",
    "\n",
    "The created dataset will contain 8000 entries for all accidents. "
   ]
  },
  {
   "cell_type": "code",
   "execution_count": 1,
   "metadata": {},
   "outputs": [],
   "source": [
    "# Import all relevant libraries\n",
    "import numpy as np\n",
    "import numpy.random as rnd\n",
    "import pandas as pd\n",
    "import matplotlib.pyplot as plt\n",
    "import seaborn as sns\n",
    "\n",
    "# Sets a chart style\n",
    "sns.set(style=\"darkgrid\", color_codes=True)\n",
    "# Use magic function to render the figure in a notebook\n",
    "%matplotlib inline\n",
    "\n",
    "# Set number of samples based on number of accidents\n",
    "numsam = 8000"
   ]
  },
  {
   "cell_type": "markdown",
   "metadata": {},
   "source": [
    "At the begining is necessary to create all possible selections for each variable.\n",
    "The first is the location. In this case the data from CSO will be used to reflect the entire State. CSO counts number of inhabitants in all major locations like Dublin, Galway, Limerick etc. that include Cities and their suburbans areas and called them i.e. \"Dublin and suburbans areas\" but for this project this will be simplified and called just cities names that including all suburbans areas i.e. \"Dublin\". To reduce number of all locations the bigest cities and town in different part of coutry were picked. "
   ]
  },
  {
   "cell_type": "code",
   "execution_count": 2,
   "metadata": {},
   "outputs": [
    {
     "data": {
      "text/plain": [
       "0          Dublin\n",
       "1            Cork\n",
       "2        Limerick\n",
       "3          Galway\n",
       "4       Waterford\n",
       "5        Drogheda\n",
       "6          Swords\n",
       "7         Dundalk\n",
       "8            Bray\n",
       "9           Navan\n",
       "10       Kilkenny\n",
       "11          Ennis\n",
       "12         Carlow\n",
       "13         Tralee\n",
       "14      Newbridge\n",
       "15     Portlaoise\n",
       "16     Balbriggan\n",
       "17           Naas\n",
       "18        Athlone\n",
       "19      Mullingar\n",
       "20      Celbridge\n",
       "21        Wexford\n",
       "22    Letterkenny\n",
       "23          Sligo\n",
       "24     Greystones\n",
       "25        Clonmel\n",
       "26       Malahide\n",
       "27    Carrigaline\n",
       "28        Leixlip\n",
       "29      Tullamore\n",
       "Name: Place, dtype: object"
      ]
     },
     "execution_count": 2,
     "metadata": {},
     "output_type": "execute_result"
    }
   ],
   "source": [
    "# Create all possible locations\n",
    "# Read data csv from CSO\n",
    "population = pd.read_csv(\"Data/population.csv\")\n",
    "# Name colums\n",
    "population.columns = ['Place','Inhabitants']\n",
    "# Create data frame\n",
    "df = pd.DataFrame(population)\n",
    "# Picked the bigest cities and town\n",
    "df = df[0:30]\n",
    "# Assign location from the data\n",
    "location = df.Place\n",
    "# Display number of entries\n",
    "location"
   ]
  },
  {
   "cell_type": "markdown",
   "metadata": {},
   "source": [
    "There is 30 location picked from CSO data. "
   ]
  },
  {
   "cell_type": "markdown",
   "metadata": {},
   "source": [
    "In further step the four major group of road user will be created."
   ]
  },
  {
   "cell_type": "code",
   "execution_count": 3,
   "metadata": {},
   "outputs": [],
   "source": [
    "# Create all road user options\n",
    "road_user = ['Pedestrians', 'Cyclists', 'Motorbike', 'Car']"
   ]
  },
  {
   "cell_type": "markdown",
   "metadata": {},
   "source": [
    "The collision type was limited to two option whcih are the most important. It will be check if victim of accident was death or injured. For detailed analyse this option can be investigated further i.e. major, minor injurys, no injurys at all, damage to vehicle or property without any harm issue to the road user etc."
   ]
  },
  {
   "cell_type": "code",
   "execution_count": 4,
   "metadata": {},
   "outputs": [],
   "source": [
    "# Create collision types\n",
    "collision = ['Killed','Injured']"
   ]
  },
  {
   "cell_type": "markdown",
   "metadata": {},
   "source": [
    "The next factor that will be checked is the gender of road user involved in the accident. It is worth to check how gender impacts the data."
   ]
  },
  {
   "cell_type": "code",
   "execution_count": 5,
   "metadata": {},
   "outputs": [],
   "source": [
    "# Create gender options\n",
    "gender = ['male', 'female']"
   ]
  },
  {
   "cell_type": "markdown",
   "metadata": {},
   "source": [
    "It is important to model data with consideration of time of the year as the different months have a significant influence on the road conditions."
   ]
  },
  {
   "cell_type": "code",
   "execution_count": 6,
   "metadata": {},
   "outputs": [],
   "source": [
    "# Create all monts in the year\n",
    "month = ['January', 'February', 'March', 'April', 'May', 'June', 'July', 'August', 'September', 'October', 'November', 'December']"
   ]
  },
  {
   "cell_type": "markdown",
   "metadata": {},
   "source": [
    "At the end, the variable that indicates if alcohol was involved as accidents culprit on the roads."
   ]
  },
  {
   "cell_type": "code",
   "execution_count": 7,
   "metadata": {},
   "outputs": [],
   "source": [
    "# Create influence of alcohol possibility\n",
    "alcohol = ['yes', 'no']"
   ]
  },
  {
   "cell_type": "markdown",
   "metadata": {},
   "source": [
    "### Generating a number of accidents"
   ]
  },
  {
   "cell_type": "markdown",
   "metadata": {},
   "source": [
    "The starting point in the creation of dataset will be to distribute a number of accidents by locations. Looking at the number of inhabitants in each place it might be a way to try to determine the weight of probability for generating data."
   ]
  },
  {
   "cell_type": "code",
   "execution_count": 8,
   "metadata": {},
   "outputs": [
    {
     "data": {
      "text/html": [
       "<div>\n",
       "<style scoped>\n",
       "    .dataframe tbody tr th:only-of-type {\n",
       "        vertical-align: middle;\n",
       "    }\n",
       "\n",
       "    .dataframe tbody tr th {\n",
       "        vertical-align: top;\n",
       "    }\n",
       "\n",
       "    .dataframe thead th {\n",
       "        text-align: right;\n",
       "    }\n",
       "</style>\n",
       "<table border=\"1\" class=\"dataframe\">\n",
       "  <thead>\n",
       "    <tr style=\"text-align: right;\">\n",
       "      <th></th>\n",
       "      <th>Place</th>\n",
       "      <th>Inhabitants</th>\n",
       "    </tr>\n",
       "  </thead>\n",
       "  <tbody>\n",
       "    <tr>\n",
       "      <th>0</th>\n",
       "      <td>Dublin</td>\n",
       "      <td>1173179</td>\n",
       "    </tr>\n",
       "    <tr>\n",
       "      <th>1</th>\n",
       "      <td>Cork</td>\n",
       "      <td>208669</td>\n",
       "    </tr>\n",
       "    <tr>\n",
       "      <th>2</th>\n",
       "      <td>Limerick</td>\n",
       "      <td>94192</td>\n",
       "    </tr>\n",
       "    <tr>\n",
       "      <th>3</th>\n",
       "      <td>Galway</td>\n",
       "      <td>79934</td>\n",
       "    </tr>\n",
       "    <tr>\n",
       "      <th>4</th>\n",
       "      <td>Waterford</td>\n",
       "      <td>53504</td>\n",
       "    </tr>\n",
       "  </tbody>\n",
       "</table>\n",
       "</div>"
      ],
      "text/plain": [
       "       Place  Inhabitants\n",
       "0     Dublin      1173179\n",
       "1       Cork       208669\n",
       "2   Limerick        94192\n",
       "3     Galway        79934\n",
       "4  Waterford        53504"
      ]
     },
     "execution_count": 8,
     "metadata": {},
     "output_type": "execute_result"
    }
   ],
   "source": [
    "df.head()"
   ]
  },
  {
   "cell_type": "code",
   "execution_count": 9,
   "metadata": {},
   "outputs": [
    {
     "data": {
      "text/plain": [
       "2198054"
      ]
     },
     "execution_count": 9,
     "metadata": {},
     "output_type": "execute_result"
    }
   ],
   "source": [
    "total = df.Inhabitants.sum()\n",
    "total"
   ]
  },
  {
   "cell_type": "markdown",
   "metadata": {},
   "source": [
    "The total number of people living in all locations is **2,198,054**."
   ]
  },
  {
   "cell_type": "code",
   "execution_count": 10,
   "metadata": {},
   "outputs": [
    {
     "data": {
      "image/png": "[encoded data removed]",
      "text/plain": [
       "<Figure size 1440x720 with 1 Axes>"
      ]
     },
     "metadata": {
      "needs_background": "light"
     },
     "output_type": "display_data"
    }
   ],
   "source": [
    "# Determind probability\n",
    "loc_pr = (df['Inhabitants']/total).tolist()\n",
    "# Distribute accidents across location with defined probability \n",
    "accidents = pd.DataFrame({'Place': rnd.choice(location, numsam, p=loc_pr)})\n",
    "# Defines chart size\n",
    "plt.rcParams['figure.figsize'] = (20,10)\n",
    "# Show results \n",
    "sns.countplot(y='Place', data=accidents, palette=\"Spectral\")\n",
    "# Defines chart lables\n",
    "plt.title(\"Accidents by Location\", fontweight=\"bold\", fontsize=20)\n",
    "plt.xlabel('Accidents',fontsize=20)\n",
    "plt.ylabel('Location',fontsize=20)\n",
    "\n",
    "plt.show()"
   ]
  },
  {
   "cell_type": "markdown",
   "metadata": {},
   "source": [
    "The result is not surprising. The Dublin, Cork, Galway and Limerick are leading areas of the road accidents in Ireland."
   ]
  },
  {
   "cell_type": "markdown",
   "metadata": {},
   "source": [
    "### Classify Accident Road Users"
   ]
  },
  {
   "cell_type": "markdown",
   "metadata": {},
   "source": [
    "At this stage, the groups ( Pedestrians, Cyclists, Motorbike, Car) of road user will be considered. Reviewing RSA statistics is clear that car users and pedestrians are the largest groups that need to included in the distribution.  "
   ]
  },
  {
   "cell_type": "code",
   "execution_count": 11,
   "metadata": {},
   "outputs": [
    {
     "data": {
      "image/png": "[encoded data removed]",
      "text/plain": [
       "<Figure size 1440x720 with 1 Axes>"
      ]
     },
     "metadata": {
      "needs_background": "light"
     },
     "output_type": "display_data"
    }
   ],
   "source": [
    "# Distribute accidents across users with defined probability \n",
    "accidents['Users'] =rnd.choice(road_user, numsam, p=[0.15, 0.13, 0.07, 0.65] )\n",
    "# Show results \n",
    "sns.countplot(x='Users', data = accidents, palette='Spectral')\n",
    "# Defines chart lables\n",
    "plt.title('Accidents by Users', fontweight='bold', fontsize=20)\n",
    "plt.xlabel('Users',fontsize=20)\n",
    "plt.ylabel('Accidents',fontsize=20)\n",
    "plt.show()"
   ]
  },
  {
   "cell_type": "markdown",
   "metadata": {},
   "source": [
    "### Collision Type"
   ]
  },
  {
   "cell_type": "markdown",
   "metadata": {},
   "source": [
    "Investigating majority of data from irish roads indicates that in this classification big importance has if result of accident was fatal or not. The next level is checking how severe injury type was result of the crash. This project will only focus on creation of dataset that will indicate two most important types of results which show that person involve in accident was killed or injured."
   ]
  },
  {
   "cell_type": "code",
   "execution_count": 12,
   "metadata": {},
   "outputs": [
    {
     "data": {
      "image/png": "[encoded data removed]",
      "text/plain": [
       "<Figure size 1440x720 with 1 Axes>"
      ]
     },
     "metadata": {
      "needs_background": "light"
     },
     "output_type": "display_data"
    }
   ],
   "source": [
    "# Distribute accidents across users with defined probability \n",
    "accidents['Result'] =rnd.choice(collision, numsam, p=[0.0288, 0.9712,] )\n",
    "# Show results \n",
    "sns.countplot(x='Result', data = accidents, palette='Spectral')\n",
    "# Defines chart lables\n",
    "plt.title('Result of Accident', fontweight='bold', fontsize=20)\n",
    "plt.xlabel('Result',fontsize=20)\n",
    "plt.ylabel('Accidents',fontsize=20)\n",
    "plt.show()"
   ]
  },
  {
   "cell_type": "markdown",
   "metadata": {},
   "source": [
    "The chances of fatal consequences in accident on roads in Ireland are much less possible than probability of being injured. That is why **p** parameter was defined in favor of injuries. "
   ]
  },
  {
   "cell_type": "markdown",
   "metadata": {},
   "source": [
    "### Gender"
   ]
  },
  {
   "cell_type": "markdown",
   "metadata": {},
   "source": [
    "In this section the Gender of Road Users will be added to the dataset.For purpose of this investigation, the \"age_gender.csv\" file generated from CSO will be used as a start point. "
   ]
  },
  {
   "cell_type": "code",
   "execution_count": 29,
   "metadata": {},
   "outputs": [
    {
     "data": {
      "text/html": [
       "<div>\n",
       "<style scoped>\n",
       "    .dataframe tbody tr th:only-of-type {\n",
       "        vertical-align: middle;\n",
       "    }\n",
       "\n",
       "    .dataframe tbody tr th {\n",
       "        vertical-align: top;\n",
       "    }\n",
       "\n",
       "    .dataframe thead th {\n",
       "        text-align: right;\n",
       "    }\n",
       "</style>\n",
       "<table border=\"1\" class=\"dataframe\">\n",
       "  <thead>\n",
       "    <tr style=\"text-align: right;\">\n",
       "      <th></th>\n",
       "      <th>Age</th>\n",
       "      <th>Male</th>\n",
       "      <th>Female</th>\n",
       "      <th>Total</th>\n",
       "      <th>Mprc</th>\n",
       "      <th>Fprc</th>\n",
       "    </tr>\n",
       "  </thead>\n",
       "  <tbody>\n",
       "    <tr>\n",
       "      <th>0</th>\n",
       "      <td>0-4</td>\n",
       "      <td>169731</td>\n",
       "      <td>161784</td>\n",
       "      <td>331515</td>\n",
       "      <td>51.198588</td>\n",
       "      <td>48.801412</td>\n",
       "    </tr>\n",
       "    <tr>\n",
       "      <th>1</th>\n",
       "      <td>05-09</td>\n",
       "      <td>181470</td>\n",
       "      <td>174091</td>\n",
       "      <td>355561</td>\n",
       "      <td>51.037656</td>\n",
       "      <td>48.962344</td>\n",
       "    </tr>\n",
       "    <tr>\n",
       "      <th>2</th>\n",
       "      <td>10-14</td>\n",
       "      <td>163378</td>\n",
       "      <td>156098</td>\n",
       "      <td>319476</td>\n",
       "      <td>51.139366</td>\n",
       "      <td>48.860634</td>\n",
       "    </tr>\n",
       "    <tr>\n",
       "      <th>3</th>\n",
       "      <td>15-19</td>\n",
       "      <td>154908</td>\n",
       "      <td>147908</td>\n",
       "      <td>302816</td>\n",
       "      <td>51.155817</td>\n",
       "      <td>48.844183</td>\n",
       "    </tr>\n",
       "    <tr>\n",
       "      <th>4</th>\n",
       "      <td>20-24</td>\n",
       "      <td>137584</td>\n",
       "      <td>136052</td>\n",
       "      <td>273636</td>\n",
       "      <td>50.279934</td>\n",
       "      <td>49.720066</td>\n",
       "    </tr>\n",
       "    <tr>\n",
       "      <th>5</th>\n",
       "      <td>25-29</td>\n",
       "      <td>145222</td>\n",
       "      <td>152213</td>\n",
       "      <td>297435</td>\n",
       "      <td>48.824785</td>\n",
       "      <td>51.175215</td>\n",
       "    </tr>\n",
       "    <tr>\n",
       "      <th>6</th>\n",
       "      <td>30-34</td>\n",
       "      <td>173179</td>\n",
       "      <td>188796</td>\n",
       "      <td>361975</td>\n",
       "      <td>47.842807</td>\n",
       "      <td>52.157193</td>\n",
       "    </tr>\n",
       "    <tr>\n",
       "      <th>7</th>\n",
       "      <td>35-39</td>\n",
       "      <td>191045</td>\n",
       "      <td>198376</td>\n",
       "      <td>389421</td>\n",
       "      <td>49.058731</td>\n",
       "      <td>50.941269</td>\n",
       "    </tr>\n",
       "    <tr>\n",
       "      <th>8</th>\n",
       "      <td>40-44</td>\n",
       "      <td>177482</td>\n",
       "      <td>179978</td>\n",
       "      <td>357460</td>\n",
       "      <td>49.650870</td>\n",
       "      <td>50.349130</td>\n",
       "    </tr>\n",
       "    <tr>\n",
       "      <th>9</th>\n",
       "      <td>45-49</td>\n",
       "      <td>162824</td>\n",
       "      <td>163286</td>\n",
       "      <td>326110</td>\n",
       "      <td>49.929165</td>\n",
       "      <td>50.070835</td>\n",
       "    </tr>\n",
       "    <tr>\n",
       "      <th>10</th>\n",
       "      <td>50-54</td>\n",
       "      <td>148212</td>\n",
       "      <td>151723</td>\n",
       "      <td>299935</td>\n",
       "      <td>49.414707</td>\n",
       "      <td>50.585293</td>\n",
       "    </tr>\n",
       "    <tr>\n",
       "      <th>11</th>\n",
       "      <td>55-59</td>\n",
       "      <td>133858</td>\n",
       "      <td>136244</td>\n",
       "      <td>270102</td>\n",
       "      <td>49.558315</td>\n",
       "      <td>50.441685</td>\n",
       "    </tr>\n",
       "    <tr>\n",
       "      <th>12</th>\n",
       "      <td>60-64</td>\n",
       "      <td>118698</td>\n",
       "      <td>120158</td>\n",
       "      <td>238856</td>\n",
       "      <td>49.694377</td>\n",
       "      <td>50.305623</td>\n",
       "    </tr>\n",
       "    <tr>\n",
       "      <th>13</th>\n",
       "      <td>65-69</td>\n",
       "      <td>104961</td>\n",
       "      <td>106275</td>\n",
       "      <td>211236</td>\n",
       "      <td>49.688973</td>\n",
       "      <td>50.311027</td>\n",
       "    </tr>\n",
       "    <tr>\n",
       "      <th>14</th>\n",
       "      <td>70-74</td>\n",
       "      <td>79501</td>\n",
       "      <td>82771</td>\n",
       "      <td>162272</td>\n",
       "      <td>48.992432</td>\n",
       "      <td>51.007568</td>\n",
       "    </tr>\n",
       "    <tr>\n",
       "      <th>15</th>\n",
       "      <td>75-79</td>\n",
       "      <td>54117</td>\n",
       "      <td>61350</td>\n",
       "      <td>115467</td>\n",
       "      <td>46.867936</td>\n",
       "      <td>53.132064</td>\n",
       "    </tr>\n",
       "    <tr>\n",
       "      <th>16</th>\n",
       "      <td>80-84</td>\n",
       "      <td>35196</td>\n",
       "      <td>45841</td>\n",
       "      <td>81037</td>\n",
       "      <td>43.432013</td>\n",
       "      <td>56.567987</td>\n",
       "    </tr>\n",
       "    <tr>\n",
       "      <th>17</th>\n",
       "      <td>85 and over</td>\n",
       "      <td>23062</td>\n",
       "      <td>44493</td>\n",
       "      <td>67555</td>\n",
       "      <td>34.138110</td>\n",
       "      <td>65.861890</td>\n",
       "    </tr>\n",
       "  </tbody>\n",
       "</table>\n",
       "</div>"
      ],
      "text/plain": [
       "            Age    Male  Female   Total       Mprc       Fprc\n",
       "0           0-4  169731  161784  331515  51.198588  48.801412\n",
       "1         05-09  181470  174091  355561  51.037656  48.962344\n",
       "2         10-14  163378  156098  319476  51.139366  48.860634\n",
       "3         15-19  154908  147908  302816  51.155817  48.844183\n",
       "4         20-24  137584  136052  273636  50.279934  49.720066\n",
       "5         25-29  145222  152213  297435  48.824785  51.175215\n",
       "6         30-34  173179  188796  361975  47.842807  52.157193\n",
       "7         35-39  191045  198376  389421  49.058731  50.941269\n",
       "8         40-44  177482  179978  357460  49.650870  50.349130\n",
       "9         45-49  162824  163286  326110  49.929165  50.070835\n",
       "10        50-54  148212  151723  299935  49.414707  50.585293\n",
       "11        55-59  133858  136244  270102  49.558315  50.441685\n",
       "12        60-64  118698  120158  238856  49.694377  50.305623\n",
       "13        65-69  104961  106275  211236  49.688973  50.311027\n",
       "14        70-74   79501   82771  162272  48.992432  51.007568\n",
       "15        75-79   54117   61350  115467  46.867936  53.132064\n",
       "16        80-84   35196   45841   81037  43.432013  56.567987\n",
       "17  85 and over   23062   44493   67555  34.138110  65.861890"
      ]
     },
     "execution_count": 29,
     "metadata": {},
     "output_type": "execute_result"
    }
   ],
   "source": [
    "# Read data csv from CSO\n",
    "g_dist = pd.read_csv(\"Data/age_gender.csv\")\n",
    "# Add percentage columns of male/female distribution \n",
    "g_dist['Mprc']=g_dist['Male']/g_dist['Total']*100\n",
    "g_dist['Fprc']=g_dist['Female']/g_dist['Total']*100\n",
    "# Display data\n",
    "g_dist"
   ]
  },
  {
   "cell_type": "markdown",
   "metadata": {},
   "source": [
    "Reviewing above data is worth to calculate the overall male to female percentage ratio for all age groups."
   ]
  },
  {
   "cell_type": "code",
   "execution_count": 39,
   "metadata": {},
   "outputs": [
    {
     "data": {
      "text/plain": [
       "48.0"
      ]
     },
     "execution_count": 39,
     "metadata": {},
     "output_type": "execute_result"
    }
   ],
   "source": [
    "# Calculate average MRat\n",
    "round(np.average(g_dist['Mprc']))"
   ]
  },
  {
   "cell_type": "markdown",
   "metadata": {},
   "source": [
    "The result is showing that male relation to female is **48 per cent** males to female for the entire population in Ireland.\n",
    "\n",
    "Taking to account that by the nature men are more prone to taking the higher risk the above gender ratio result from CSO data is not the best for probability distribution in accident dataset. The key facts from Brake the road safety charity reveal facts: \" Road casualty statistics show a big difference between men and women when it comes to safety on the roads. Men are far more likely to be killed or seriously injured on roads than women, as pedestrians, cyclists and as drivers, and at all ages. This applies not just in the UK, but in the majority of countries worldwide: globally, men account for 73% of all road traffic deaths, with an overall rate almost three times that of women.\"\n",
    "\n",
    "Data from Irish RAS 2013 confirm these facts.  \n",
    "\n",
    "<p align=\"center\"> <img width=\"600\" height=\"300\" src=\"Images/gender.png\" alt=\"Choice Function Description\" /> </p>\n"
   ]
  },
  {
   "cell_type": "markdown",
   "metadata": {},
   "source": []
  },
  {
   "cell_type": "code",
   "execution_count": 49,
   "metadata": {},
   "outputs": [
    {
     "data": {
      "image/png": "[encoded data removed]",
      "text/plain": [
       "<Figure size 1440x720 with 1 Axes>"
      ]
     },
     "metadata": {
      "needs_background": "light"
     },
     "output_type": "display_data"
    }
   ],
   "source": [
    "# Create probability for distribution\n",
    "gdst = [round(np.average(g_dist['Mprc']))/100,round(np.average(g_dist['Fprc']))/100]\n",
    "# Generate the distribution of gender\n",
    "accidents['Gender'] =rnd.choice(gender, numsam, p=gdst)\n",
    "# Show results \n",
    "sns.countplot(x='Users', hue='Gender', data = accidents, palette='Spectral')\n",
    "# Defines chart lables\n",
    "plt.title('Accidents by Gender', fontweight='bold', fontsize=20)\n",
    "plt.xlabel('Users',fontsize=20)\n",
    "plt.ylabel('Accidents',fontsize=20)\n",
    "plt.show()"
   ]
  },
  {
   "cell_type": "markdown",
   "metadata": {},
   "source": [
    "### Time of the year"
   ]
  },
  {
   "cell_type": "code",
   "execution_count": null,
   "metadata": {},
   "outputs": [],
   "source": []
  },
  {
   "cell_type": "markdown",
   "metadata": {},
   "source": [
    "### Alcohol"
   ]
  },
  {
   "cell_type": "code",
   "execution_count": null,
   "metadata": {},
   "outputs": [],
   "source": []
  },
  {
   "cell_type": "markdown",
   "metadata": {},
   "source": [
    "[**<<<**](#table)"
   ]
  },
  {
   "cell_type": "markdown",
   "metadata": {},
   "source": [
    "## Summary<a id=\"summary\"/>"
   ]
  },
  {
   "cell_type": "markdown",
   "metadata": {},
   "source": []
  },
  {
   "cell_type": "markdown",
   "metadata": {},
   "source": [
    "[**<<<**](#table)"
   ]
  },
  {
   "cell_type": "markdown",
   "metadata": {},
   "source": [
    "## References<a id=\"references\"/>"
   ]
  },
  {
   "cell_type": "markdown",
   "metadata": {},
   "source": [
    "1. [OECD Data - Road accidents](https://data.oecd.org/transport/road-accidents.htm)\n",
    "1. [thejournal.ie - 2018 accidents summary](https://www.thejournal.ie/2018-saw-the-lowest-number-of-deaths-on-irish-roads-since-records-began-in-1959-4419050-Jan2019/)\n",
    "1. [Central Statistics Office - Traffic Collisions and Casualties by County, Statistical Indicator and\n",
    "Year ](https://statbank.cso.ie/px/pxeirestat/Statire/Graphics/MakeGraph.asp?menu=y&pxfile=2019121122103214424086ROA20.px&gr_type=1&PLanguage=0)\n",
    "1. [Sex Differences in Everyday Risk-Taking Behavior in Humans](https://journals.sagepub.com/doi/pdf/10.1177/147470490800600104)\n",
    "1. [Brake the road safety charity - Driver gender facts](https://www.brake.org.uk/facts-resources/1593-driver-gender)\n",
    "1. []()\n",
    "1. []()\n",
    "1. []()\n",
    "1. []()\n",
    "1. []()\n",
    "1. []()\n",
    "1. []()"
   ]
  },
  {
   "cell_type": "markdown",
   "metadata": {},
   "source": [
    "[**<<<**](#table)"
   ]
  }
 ],
 "metadata": {
  "kernelspec": {
   "display_name": "Python 3",
   "language": "python",
   "name": "python3"
  },
  "language_info": {
   "codemirror_mode": {
    "name": "ipython",
    "version": 3
   },
   "file_extension": ".py",
   "mimetype": "text/x-python",
   "name": "python",
   "nbconvert_exporter": "python",
   "pygments_lexer": "ipython3",
   "version": "3.7.4"
  }
 },
 "nbformat": 4,
 "nbformat_minor": 2
}
